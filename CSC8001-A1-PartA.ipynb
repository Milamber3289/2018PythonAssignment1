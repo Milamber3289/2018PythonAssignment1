{
 "cells": [
  {
   "cell_type": "markdown",
   "metadata": {},
   "source": [
    "# CSC8001: Assignment 1"
   ]
  },
  {
   "cell_type": "markdown",
   "metadata": {},
   "source": [
    "## Part A - Literary Scrabble [60 marks]\n",
    "\n",
    "Let's play a round of Literary Scrabble: a game of Scrabble where you can only play words that appear in selected literary classics.  The functions you will write for Part A will let you answer questions like:\n",
    "\n",
    "- How many unique words does Mark Twain's book the <em>Adventures of Huckleberry Finn</em> have?\n",
    "\n",
    "- What is the highest scoring word from Lewis Carroll's <em>Alice's Adventures in Wonderland</em> that you can play with the letters 'qazvredl'?\n",
    "\n",
    "- Which books have the most words which use the letters `j` and `x`?\n",
    "\n",
    "\n",
    "For Part A complete each of the Word Analysis and Word Questions functions below.  The Word Analysis functions will provide the primary text analysis to help you answer the questions defined in this notebook. The code you write for each Word Question's function will need to call the appropriate Word Analysis function(s) and then complete any additional processing necessary to answer the specific question.  \n",
    "\n",
    "- Answers to the specific questions above have been provided for you so that you can test your code.  \n",
    "- Text files for creating word lists are available in the `books` folder."
   ]
  },
  {
   "cell_type": "code",
   "execution_count": null,
   "metadata": {
    "collapsed": true
   },
   "outputs": [],
   "source": [
    "from __future__ import print_function\n",
    "\n",
    "import string"
   ]
  },
  {
   "cell_type": "markdown",
   "metadata": {},
   "source": [
    "### Word Analysis"
   ]
  },
  {
   "cell_type": "markdown",
   "metadata": {},
   "source": [
    "#### Create Book Word List [12 Marks]\n",
    "\n",
    "Complete the function below which should read a book's text file, and return a sorted list (ascending) of words (i.e. - no duplicates) extracted from the book's `text_file` that also exist in the official Sowpods list of approved scrabble words.  \n",
    "\n",
    "To create your book's word list: \n",
    "- convert all characters to lowercase;  \n",
    "- replace hyphens with a single space, `' '`, to split hyphenated words into separate words; \n",
    "- strip off all contractions and possessives from words: 's, 're, etc \n",
    "- remove all punctuation, whitespace characters and numbers.\n",
    "- only keep words which also occur in the official Sowpods list\n",
    "\n",
    "HINT: The Python Standard Library provides various string constants, such as `whitespace` and `punctuation`.  You may want to review the Python Standard Library's sections on string methods and constants.\n",
    "- [String constants](https://docs.python.org/3/library/string.html#string-constants)\n",
    "- [String methods](https://docs.python.org/3/library/stdtypes.html#text-sequence-type-str)\n",
    "\n",
    "**NOTE: Creating a book's word list may take several seconds of processing time.**.  We recommend you use the smaller book file, `\"-ch1.txt\"` extracts, while you are testing your code."
   ]
  },
  {
   "cell_type": "code",
   "execution_count": 1,
   "metadata": {
    "collapsed": true
   },
   "outputs": [],
   "source": [
    "def create_wordlist(text_file):\n",
    "    \"\"\" Provide function docstring\n",
    "    \"\"\"\n",
    "\n",
    "    return \"YOUR ANSWER HERE\""
   ]
  },
  {
   "cell_type": "markdown",
   "metadata": {},
   "source": [
    "#### Word Match [8 Marks]\n",
    "\n",
    "The `word_match` function below should return `True` or `False` depending on if the `word` can be created from the provided string of `letters`. The `word` does not have to use all of the letters.  NOTE: Each letter in `letters` can only be used once.\n",
    "\n",
    "For example: \n",
    "- `word_match('toe', 'potatoe')`, returns `True`\n",
    "- `word_match('ball', 'abcledg')`, returns `False`   "
   ]
  },
  {
   "cell_type": "code",
   "execution_count": null,
   "metadata": {
    "collapsed": true
   },
   "outputs": [],
   "source": [
    "def word_match(word, letters):\n",
    "    \"\"\" Provide function docstring\n",
    "    \"\"\"\n",
    "    \n",
    "    return \"YOUR ANSWER HERE\""
   ]
  },
  {
   "cell_type": "markdown",
   "metadata": {},
   "source": [
    "#### Word Score [8 Marks]\n",
    "\n",
    "The `word_score` function below should return a word's scrabble score (integer). Use the [English Scrabble letter distribution](https://en.wikipedia.org/wiki/Scrabble_letter_distribution) values to calculate the word's scrabble score.\n",
    "\n",
    "Example: the word 'affixes' `word_score` should be `20`\n",
    "\n",
    "\n",
    "Points | Letters\n",
    ":--: | :--\n",
    "1 | e, a, i, o, n, r, t, l, s, u\n",
    "2 | d, g\n",
    "3 | b, c, m, p\n",
    "4 | f, h, v, w, y\n",
    "5 | k\n",
    "8 | j, x\n",
    "10 | q, z"
   ]
  },
  {
   "cell_type": "code",
   "execution_count": null,
   "metadata": {
    "collapsed": true
   },
   "outputs": [],
   "source": [
    "def word_score(word):\n",
    "    \"\"\" Provide function docstring\n",
    "    \"\"\"\n",
    "    \n",
    "    return \"YOUR ANSWER HERE\""
   ]
  },
  {
   "cell_type": "markdown",
   "metadata": {},
   "source": [
    "#### Find Words [8 Marks]\n",
    "\n",
    "You're playing Literary Scrabble where you can only play words extracted from famous books. You have pulled your letters and there are lots of possibilities but you obviously want to play a hand which will get you the highest score. \n",
    "\n",
    "Complete the `find_words` function below which should return a dictionary of valid words (selected from the provided `words_list`) that can be created from the letters provided. The keys for the returned dictionary are the words, the values are each word's scrabble score. \n",
    "\n",
    "- Use the `word_match` function above to find word/letters matches.  \n",
    "- Use the `word_score` function above to calculate each word's scrabble score.  \n"
   ]
  },
  {
   "cell_type": "code",
   "execution_count": null,
   "metadata": {
    "collapsed": true
   },
   "outputs": [],
   "source": [
    "def find_words(words_list, letters):\n",
    "    \"\"\" Provide function docstring\n",
    "    \"\"\"\n",
    "\n",
    "    return \"YOUR ANSWER HERE\""
   ]
  },
  {
   "cell_type": "markdown",
   "metadata": {
    "collapsed": true
   },
   "source": [
    "### Word Questions\n",
    "\n",
    "Each Word Question function below will need to call the appropriate Word Analysis function(s) and then inclue any additional code required to answer the specific question.\n",
    "\n",
    "#### a1: Unique words [6 Marks]\n",
    "\n",
    "Return the number (integer) of unique words contained in `text_file`.\n",
    "\n",
    ">How many unique words does Mark Twain's <em> Adventures of Huckleberry Finn</em> have?  (available in the A1 `books` folder)  \n",
    ">Answer: 422"
   ]
  },
  {
   "cell_type": "code",
   "execution_count": null,
   "metadata": {
    "collapsed": true
   },
   "outputs": [],
   "source": [
    "def a1(text_file):\n",
    "    \"\"\" Provide function docstring\n",
    "    \"\"\" \n",
    "    \n",
    "    return \"YOUR ANSWER HERE\""
   ]
  },
  {
   "cell_type": "code",
   "execution_count": null,
   "metadata": {
    "collapsed": true
   },
   "outputs": [],
   "source": [
    "a = a1('books/adventures_of_huckleberry_finn-ch1.txt')\n",
    "a"
   ]
  },
  {
   "cell_type": "markdown",
   "metadata": {},
   "source": [
    "#### a2: Highest score [8 Marks]\n",
    "\n",
    "Your playing Literary Scrabble and its your turn.  What is the highest scoring word you can play with the letters you have based on the words from Chapter 1 of Lewis Carroll's <em>Alice's Adventures in Wonderland</em> (available in the A1 data folder).\n",
    "\n",
    ">Your available scrabble letters are 'qazrvedl'.  Whats the highest scoring word you can play?  \n",
    ">Answer: ('read', 5)"
   ]
  },
  {
   "cell_type": "code",
   "execution_count": null,
   "metadata": {
    "collapsed": true
   },
   "outputs": [],
   "source": [
    "def a2(text_file, letters):\n",
    "    \"\"\" Provide function docstring\n",
    "    \"\"\" \n",
    "    \n",
    "    return \"YOUR ANSWER HERE\""
   ]
  },
  {
   "cell_type": "code",
   "execution_count": null,
   "metadata": {
    "collapsed": true
   },
   "outputs": [],
   "source": [
    "a = a2('books/alices_adventures_in_wonderland-ch1.txt','qazrvedl')\n",
    "a"
   ]
  },
  {
   "cell_type": "markdown",
   "metadata": {},
   "source": [
    "#### a3: Books with the most `j` and `x` words [10 Marks]\n",
    "\n",
    "You've just played all of your letters. According to the rules of Literary Scrabble, if you're out of letters you can choose to switch to a new literary novel but you have to do so before you choose your new letters.  \n",
    "\n",
    "You've noticed that no one has played a `j` or a `x` for awhile.  Which may mean there are still some left.  Which is good since these are high value letters, but not good if your next literary book doesn't have many words that contain those letters.  You write a function which counts how many words in a book contain certain letters. Your function accepts and returns a list of tuples, each tuple contains information for one book.  \n",
    "\n",
    "Your function is passed a list of tuples:\n",
    "[(book_ID1, text_file1), (book_ID2, text_file2), (book_ID3, text_file3)]\n",
    "\n",
    "Your function should return a list of tuples:\n",
    "[('book_ID1', word_count1), ('book_ID2', word_count2), ('book_ID3', word_count3)]\n",
    "\n",
    "> How many words in *Alices Adventures in Wonderland* and *War of the Worlds* have the letters j or x?  \n",
    ">Answer: [('Alice', 9), ('War', 24)]\n",
    "\n",
    "(The books are available in the A1 books folder)"
   ]
  },
  {
   "cell_type": "code",
   "execution_count": null,
   "metadata": {
    "collapsed": true
   },
   "outputs": [],
   "source": [
    "def a3(book_list, letters):\n",
    "    \"\"\" Provide function docstring\n",
    "    \"\"\" \n",
    "    \n",
    "    return \"YOUR ANSWER HERE\""
   ]
  },
  {
   "cell_type": "code",
   "execution_count": null,
   "metadata": {
    "collapsed": true
   },
   "outputs": [],
   "source": [
    "a = a3([('War','books/war_of_the_worlds-ch1.txt'), \n",
    "         ('Alice', 'books/alices_adventures_in_wonderland-ch1.txt')], 'jx')\n",
    "a"
   ]
  }
 ],
 "metadata": {
  "kernelspec": {
   "display_name": "Python 3",
   "language": "python",
   "name": "python3"
  },
  "language_info": {
   "codemirror_mode": {
    "name": "ipython",
    "version": 3
   },
   "file_extension": ".py",
   "mimetype": "text/x-python",
   "name": "python",
   "nbconvert_exporter": "python",
   "pygments_lexer": "ipython3",
   "version": "3.6.1"
  }
 },
 "nbformat": 4,
 "nbformat_minor": 2
}
