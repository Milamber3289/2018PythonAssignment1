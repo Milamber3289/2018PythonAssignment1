{
 "cells": [
  {
   "cell_type": "markdown",
   "metadata": {},
   "source": [
    "# CSC8001: Assignment 1"
   ]
  },
  {
   "cell_type": "markdown",
   "metadata": {},
   "source": [
    "## Part A - Literary Scrabble [60 marks]\n",
    "\n",
    "Let's play a round of Literary Scrabble: a game of Scrabble where you can only play words that appear in selected literary classics.  The functions you will write for Part A will let you answer questions like:\n",
    "\n",
    "- How many unique words does Mark Twain's book the <em>Adventures of Huckleberry Finn</em> have?\n",
    "\n",
    "- What is the highest scoring word from Lewis Carroll's <em>Alice's Adventures in Wonderland</em> that you can play with the letters 'qazvredl'?\n",
    "\n",
    "- Which books have the most words which use the letters `j` and `x`?\n",
    "\n",
    "\n",
    "For Part A complete each of the Word Analysis and Word Questions functions below.  The Word Analysis functions will provide the primary text analysis to help you answer the questions defined in this notebook. The code you write for each Word Question's function will need to call the appropriate Word Analysis function(s) and then complete any additional processing necessary to answer the specific question.  \n",
    "\n",
    "- Answers to the specific questions above have been provided for you so that you can test your code.  \n",
    "- Text files for creating word lists are available in the `books` folder."
   ]
  },
  {
   "cell_type": "code",
   "execution_count": 1,
   "metadata": {},
   "outputs": [],
   "source": [
    "from __future__ import print_function\n",
    "\n",
    "import string\n"
   ]
  },
  {
   "cell_type": "markdown",
   "metadata": {},
   "source": [
    "### Word Analysis"
   ]
  },
  {
   "cell_type": "markdown",
   "metadata": {},
   "source": [
    "#### Create Book Word List [12 Marks]\n",
    "\n",
    "Complete the function below which should read a book's text file, and return a sorted list (ascending) of words (i.e. - no duplicates) extracted from the book's `text_file` that also exist in the official Sowpods list of approved scrabble words.  \n",
    "\n",
    "To create your book's word list: \n",
    "- convert all characters to lowercase;  \n",
    "- replace hyphens with a single space, `' '`, to split hyphenated words into separate words; \n",
    "- strip off all contractions and possessives from words: 's, 're, etc \n",
    "- remove all punctuation, whitespace characters and numbers.\n",
    "- only keep words which also occur in the official Sowpods list\n",
    "\n",
    "HINT: The Python Standard Library provides various string constants, such as `whitespace` and `punctuation`.  You may want to review the Python Standard Library's sections on string methods and constants.\n",
    "- [String constants](https://docs.python.org/3/library/string.html#string-constants)\n",
    "- [String methods](https://docs.python.org/3/library/stdtypes.html#text-sequence-type-str)\n",
    "\n",
    "**NOTE: Creating a book's word list may take several seconds of processing time.**.  We recommend you use the smaller book file, `\"-ch1.txt\"` extracts, while you are testing your code."
   ]
  },
  {
   "cell_type": "code",
   "execution_count": 2,
   "metadata": {},
   "outputs": [],
   "source": [
    "import re # required for regular expressions in create_wordlist\n",
    "\n",
    "def create_wordlist(text_file):\n",
    "    \"\"\" This function takes the textfile as an argument, \n",
    "    then returns a sorted list of words that appear in the official \n",
    "    Snowpods list of Scrabble approved words\n",
    "    text_file: string representing the filename\n",
    "    \"\"\"\n",
    "    with open(text_file,'r') as book_file:\n",
    "        book_string = book_file.read()\n",
    "        book_string = book_string.lower() #convert to lowercase\n",
    "        book_string = book_string.replace('-',' ') #replace all hyphens with a single space\n",
    "        book_string = re.sub(r\"'[A-Za-z]+ ?\", ' ', book_string) #strip off all contractions and possessives\n",
    "        book_string = re.sub('[^A-Za-z]',' ', book_string) #remove punctuation and numbers     \n",
    "        word_list = book_string.split(' ') #split string into list of words, removing whitespace since its the seperator\n",
    "        \n",
    "        #create set of unique words\n",
    "        unique_words=set(word_list)\n",
    "        #create set of words in sowpods list\n",
    "        with open('books/sowpods.txt','r') as sowpods:\n",
    "            sowpods_string = sowpods.read()\n",
    "            sowpods_string = sowpods_string.lower()\n",
    "            sowpods_set = set(sowpods_string.split('\\n'))\n",
    "            #create set of words in both sets\n",
    "            legal_matches = unique_words & sowpods_set\n",
    "        #store in sorted list\n",
    "        matching_words=list(legal_matches)\n",
    "        matching_words.sort()\n",
    "        matching_words.remove('')\n",
    "    return matching_words \n"
   ]
  },
  {
   "cell_type": "markdown",
   "metadata": {},
   "source": [
    "#### Word Match [8 Marks]\n",
    "\n",
    "The `word_match` function below should return `True` or `False` depending on if the `word` can be created from the provided string of `letters`. The `word` does not have to use all of the letters.  NOTE: Each letter in `letters` can only be used once.\n",
    "\n",
    "For example: \n",
    "- `word_match('toe', 'potatoe')`, returns `True`\n",
    "- `word_match('ball', 'abcledg')`, returns `False`   "
   ]
  },
  {
   "cell_type": "code",
   "execution_count": 116,
   "metadata": {},
   "outputs": [],
   "source": [
    "def word_match(word, letters):\n",
    "    \"\"\" This function takes a word and a string of letters as arguments, and returns true if the word can be made from the letters.\n",
    "    If the word contains multiple instances of the letter, it will only return true if there are sufficient instances of the letter in the 'letters' string\n",
    "    word: the word to try and create\n",
    "    letters: the letters available to create the word\n",
    "    \"\"\"\n",
    "    for letter in word:\n",
    "        if letter not in letters:\n",
    "            return False\n",
    "        letters = letters.replace(letter,' ',1)\n",
    "    return True"
   ]
  },
  {
   "cell_type": "markdown",
   "metadata": {},
   "source": [
    "#### Word Score [8 Marks]\n",
    "\n",
    "The `word_score` function below should return a word's scrabble score (integer). Use the [English Scrabble letter distribution](https://en.wikipedia.org/wiki/Scrabble_letter_distribution) values to calculate the word's scrabble score.\n",
    "\n",
    "Example: the word 'affixes' `word_score` should be `20`\n",
    "\n",
    "\n",
    "Points | Letters\n",
    ":--: | :--\n",
    "1 | e, a, i, o, n, r, t, l, s, u\n",
    "2 | d, g\n",
    "3 | b, c, m, p\n",
    "4 | f, h, v, w, y\n",
    "5 | k\n",
    "8 | j, x\n",
    "10 | q, z"
   ]
  },
  {
   "cell_type": "code",
   "execution_count": 118,
   "metadata": {},
   "outputs": [],
   "source": [
    "def word_score(word):\n",
    "    \"\"\" This function takes a word as an argument and returns it's scrabble score\n",
    "    word: the word to score\n",
    "    \"\"\"\n",
    "    #set character scores\n",
    "    character_scores={'e':1, 'a':1, 'i':1, 'o':1, 'n':1, 'r':1, 't':1, 'l':1, 's':1, 'u':1, 'd':2,'g':2,'b':3, 'c':3, 'm':3, 'p':3, 'f':4 , 'h':4, 'v':4, 'w':4, 'y':4,'k':5,'k':8,'x':8,'q':10,'z':10}\n",
    "    this_word_score=0\n",
    "    for letter in word:\n",
    "        this_word_score+=character_scores[letter]\n",
    "    return this_word_score"
   ]
  },
  {
   "cell_type": "markdown",
   "metadata": {},
   "source": [
    "#### Find Words [8 Marks]\n",
    "\n",
    "You're playing Literary Scrabble where you can only play words extracted from famous books. You have pulled your letters and there are lots of possibilities but you obviously want to play a hand which will get you the highest score. \n",
    "\n",
    "Complete the `find_words` function below which should return a dictionary of valid words (selected from the provided `words_list`) that can be created from the letters provided. The keys for the returned dictionary are the words, the values are each word's scrabble score. \n",
    "\n",
    "- Use the `word_match` function above to find word/letters matches.  \n",
    "- Use the `word_score` function above to calculate each word's scrabble score.  \n"
   ]
  },
  {
   "cell_type": "code",
   "execution_count": 119,
   "metadata": {},
   "outputs": [],
   "source": [
    "def find_words(words_list, letters):\n",
    "    \"\"\" This function takes a list of acceptable words, and a list of letters, \n",
    "    then returns a dictionary of all possible words in the word list that can be made by the letters & their scores.\n",
    "    The word_match & word_score functions are used in this function, so must be defined before it is called\n",
    "    words_list: a list of all playable words\n",
    "    letters: the letters available to play\n",
    "    \"\"\"\n",
    "    #Find all matching words in words_list\n",
    "    matching_words=[]\n",
    "    for word in words_list:\n",
    "        if word_match(word,letters):\n",
    "            matching_words.append(word)\n",
    "\n",
    "    #create dictionary of words and their scores\n",
    "    word_scores=dict()            \n",
    "    \n",
    "    for word in matching_words:\n",
    "        word_scores[word]=word_score(word)\n",
    "    \n",
    "    return word_scores\n"
   ]
  },
  {
   "cell_type": "markdown",
   "metadata": {
    "collapsed": true
   },
   "source": [
    "### Word Questions\n",
    "\n",
    "Each Word Question function below will need to call the appropriate Word Analysis function(s) and then inclue any additional code required to answer the specific question.\n",
    "\n",
    "#### a1: Unique words [6 Marks]\n",
    "\n",
    "Return the number (integer) of unique words contained in `text_file`.\n",
    "\n",
    ">How many unique words does Mark Twain's <em> Adventures of Huckleberry Finn</em> have?  (available in the A1 `books` folder)  \n",
    ">Answer: 422"
   ]
  },
  {
   "cell_type": "code",
   "execution_count": 120,
   "metadata": {},
   "outputs": [],
   "source": [
    "def a1(text_file):\n",
    "    \"\"\" This function takes a text files location/name as a string, and returns the number of unique words it contains.\n",
    "    It uses the create_wordlist function, so this must be defined before it is called.\n",
    "    text_file: string for the location/name of the text file\n",
    "    \"\"\" \n",
    "    \n",
    "    return len(create_wordlist(text_file))"
   ]
  },
  {
   "cell_type": "code",
   "execution_count": 121,
   "metadata": {},
   "outputs": [
    {
     "data": {
      "text/plain": [
       "422"
      ]
     },
     "execution_count": 121,
     "metadata": {},
     "output_type": "execute_result"
    }
   ],
   "source": [
    "a = a1('books/adventures_of_huckleberry_finn-ch1.txt')\n",
    "a"
   ]
  },
  {
   "cell_type": "markdown",
   "metadata": {},
   "source": [
    "#### a2: Highest score [8 Marks]\n",
    "\n",
    "Your playing Literary Scrabble and its your turn.  What is the highest scoring word you can play with the letters you have based on the words from Chapter 1 of Lewis Carroll's <em>Alice's Adventures in Wonderland</em> (available in the A1 data folder).\n",
    "\n",
    ">Your available scrabble letters are 'qazrvedl'.  Whats the highest scoring word you can play?  \n",
    ">Answer: ('read', 5)"
   ]
  },
  {
   "cell_type": "code",
   "execution_count": 122,
   "metadata": {},
   "outputs": [],
   "source": [
    "def a2(text_file, letters):\n",
    "    \"\"\" This function calculates the highest scoring playable word from the text file, using the given letters.\n",
    "    It returns a tuple of the word, and it's score.\n",
    "    text_file: string representing the location/name of the text file\n",
    "    letters:string of all letters available\n",
    "    \"\"\" \n",
    "    playable_words=find_words(create_wordlist(text_file),letters)\n",
    "    max_score=0\n",
    "    max_word=''\n",
    "    for word in playable_words:\n",
    "        if playable_words[word]>max_score:\n",
    "            max_score=playable_words[word]\n",
    "            max_word=word\n",
    "        elif playable_words[word]==max_score: #handle cases where two possible words have equal score by chosing the word with the highest ASCII value\n",
    "            if word>max_word:\n",
    "                max_score=playable_words[word]\n",
    "                max_word=word                \n",
    "    return (max_word,max_score)"
   ]
  },
  {
   "cell_type": "code",
   "execution_count": 123,
   "metadata": {},
   "outputs": [
    {
     "data": {
      "text/plain": [
       "('read', 5)"
      ]
     },
     "execution_count": 123,
     "metadata": {},
     "output_type": "execute_result"
    }
   ],
   "source": [
    "a = a2('books/alices_adventures_in_wonderland-ch1.txt','qazrvedl')\n",
    "a"
   ]
  },
  {
   "cell_type": "markdown",
   "metadata": {},
   "source": [
    "#### a3: Books with the most `j` and `x` words [10 Marks]\n",
    "\n",
    "You've just played all of your letters. According to the rules of Literary Scrabble, if you're out of letters you can choose to switch to a new literary novel but you have to do so before you choose your new letters.  \n",
    "\n",
    "You've noticed that no one has played a `j` or a `x` for awhile.  Which may mean there are still some left.  Which is good since these are high value letters, but not good if your next literary book doesn't have many words that contain those letters.  You write a function which counts how many words in a book contain certain letters. Your function accepts and returns a list of tuples, each tuple contains information for one book.  \n",
    "\n",
    "Your function is passed a list of tuples:\n",
    "[(book_ID1, text_file1), (book_ID2, text_file2), (book_ID3, text_file3)]\n",
    "\n",
    "Your function should return a list of tuples:\n",
    "[('book_ID1', word_count1), ('book_ID2', word_count2), ('book_ID3', word_count3)]\n",
    "\n",
    "> How many words in *Alices Adventures in Wonderland* and *War of the Worlds* have the letters j or x?  \n",
    ">Answer: [('Alice', 9), ('War', 24)]\n",
    "\n",
    "(The books are available in the A1 books folder)"
   ]
  },
  {
   "cell_type": "code",
   "execution_count": 124,
   "metadata": {},
   "outputs": [],
   "source": [
    "def a3(book_list, letters):\n",
    "    \"\"\" This function calculates how many words contain a set of letters in each book listed\n",
    "    book_list: list of tuples containing the book name, and it's location/filename\n",
    "    letters:string containing the set of letters\n",
    "    \"\"\" \n",
    "    return_list=[]\n",
    "    \n",
    "    for book,file_name in book_list:\n",
    "        matching_words=create_wordlist(file_name)\n",
    "        \n",
    "        words_containing_letters = 0\n",
    "        for word in matching_words:\n",
    "            for letter in word:\n",
    "                if letter in letters:\n",
    "                    words_containing_letters+=1\n",
    "        \n",
    "        return_list.append((book,words_containing_letters))\n",
    "        \n",
    "    return return_list"
   ]
  },
  {
   "cell_type": "code",
   "execution_count": 125,
   "metadata": {},
   "outputs": [
    {
     "data": {
      "text/plain": [
       "[('War', 24), ('Alice', 9)]"
      ]
     },
     "execution_count": 125,
     "metadata": {},
     "output_type": "execute_result"
    }
   ],
   "source": [
    "a = a3([('War','books/war_of_the_worlds-ch1.txt'), \n",
    "         ('Alice', 'books/alices_adventures_in_wonderland-ch1.txt')], 'jx')\n",
    "a"
   ]
  }
 ],
 "metadata": {
  "kernelspec": {
   "display_name": "Python 3",
   "language": "python",
   "name": "python3"
  },
  "language_info": {
   "codemirror_mode": {
    "name": "ipython",
    "version": 3
   },
   "file_extension": ".py",
   "mimetype": "text/x-python",
   "name": "python",
   "nbconvert_exporter": "python",
   "pygments_lexer": "ipython3",
   "version": "3.6.5"
  }
 },
 "nbformat": 4,
 "nbformat_minor": 2
}
